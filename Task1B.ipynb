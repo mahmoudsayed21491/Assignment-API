{
 "cells": [
  {
   "cell_type": "code",
   "execution_count": 2,
   "metadata": {},
   "outputs": [],
   "source": [
    "import requests\n",
    "import csv"
   ]
  },
  {
   "cell_type": "code",
   "execution_count": 6,
   "metadata": {},
   "outputs": [
    {
     "data": {
      "text/plain": [
       "<Response [200]>"
      ]
     },
     "execution_count": 6,
     "metadata": {},
     "output_type": "execute_result"
    }
   ],
   "source": [
    "r = requests.get('https://reqres.in/api/users?page=2')\n",
    "r"
   ]
  },
  {
   "cell_type": "code",
   "execution_count": 7,
   "metadata": {},
   "outputs": [
    {
     "data": {
      "text/plain": [
       "[{'id': 7,\n",
       "  'email': 'michael.lawson@reqres.in',\n",
       "  'first_name': 'Michael',\n",
       "  'last_name': 'Lawson',\n",
       "  'avatar': 'https://reqres.in/img/faces/7-image.jpg'},\n",
       " {'id': 8,\n",
       "  'email': 'lindsay.ferguson@reqres.in',\n",
       "  'first_name': 'Lindsay',\n",
       "  'last_name': 'Ferguson',\n",
       "  'avatar': 'https://reqres.in/img/faces/8-image.jpg'},\n",
       " {'id': 9,\n",
       "  'email': 'tobias.funke@reqres.in',\n",
       "  'first_name': 'Tobias',\n",
       "  'last_name': 'Funke',\n",
       "  'avatar': 'https://reqres.in/img/faces/9-image.jpg'},\n",
       " {'id': 10,\n",
       "  'email': 'byron.fields@reqres.in',\n",
       "  'first_name': 'Byron',\n",
       "  'last_name': 'Fields',\n",
       "  'avatar': 'https://reqres.in/img/faces/10-image.jpg'},\n",
       " {'id': 11,\n",
       "  'email': 'george.edwards@reqres.in',\n",
       "  'first_name': 'George',\n",
       "  'last_name': 'Edwards',\n",
       "  'avatar': 'https://reqres.in/img/faces/11-image.jpg'},\n",
       " {'id': 12,\n",
       "  'email': 'rachel.howell@reqres.in',\n",
       "  'first_name': 'Rachel',\n",
       "  'last_name': 'Howell',\n",
       "  'avatar': 'https://reqres.in/img/faces/12-image.jpg'}]"
      ]
     },
     "execution_count": 7,
     "metadata": {},
     "output_type": "execute_result"
    }
   ],
   "source": [
    "data = r.json()['data']\n",
    "data"
   ]
  },
  {
   "cell_type": "code",
   "execution_count": 8,
   "metadata": {},
   "outputs": [],
   "source": [
    "with open('reqres_data_page2.csv', 'w', newline= '') as file:\n",
    "\n",
    "    writer = csv.DictWriter(file, ['id', 'email', 'first_name','last_name','avatar'])\n",
    "    writer.writeheader()\n",
    "\n",
    "    for d in data:\n",
    "\n",
    "        id = d['id']\n",
    "        email = d['email']\n",
    "        first_name = d['first_name']\n",
    "        last_name = d['last_name']\n",
    "        avatar = d['avatar']\n",
    "\n",
    "        writer.writerow({'id' : id, 'email' : email, 'first_name' : first_name , 'last_name': last_name ,'avatar':avatar })\n"
   ]
  },
  {
   "cell_type": "code",
   "execution_count": null,
   "metadata": {},
   "outputs": [],
   "source": []
  }
 ],
 "metadata": {
  "kernelspec": {
   "display_name": "DA",
   "language": "python",
   "name": "python3"
  },
  "language_info": {
   "codemirror_mode": {
    "name": "ipython",
    "version": 3
   },
   "file_extension": ".py",
   "mimetype": "text/x-python",
   "name": "python",
   "nbconvert_exporter": "python",
   "pygments_lexer": "ipython3",
   "version": "3.11.5"
  }
 },
 "nbformat": 4,
 "nbformat_minor": 2
}
