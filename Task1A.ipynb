{
 "cells": [
  {
   "cell_type": "code",
   "execution_count": 3,
   "metadata": {},
   "outputs": [],
   "source": [
    "import requests\n",
    "import csv"
   ]
  },
  {
   "cell_type": "code",
   "execution_count": 6,
   "metadata": {},
   "outputs": [
    {
     "data": {
      "text/plain": [
       "<Response [200]>"
      ]
     },
     "execution_count": 6,
     "metadata": {},
     "output_type": "execute_result"
    }
   ],
   "source": [
    "r = requests.get(\"https://reqres.in/api/users\")\n",
    "r"
   ]
  },
  {
   "cell_type": "code",
   "execution_count": 12,
   "metadata": {},
   "outputs": [
    {
     "data": {
      "text/plain": [
       "[{'id': 1,\n",
       "  'email': 'george.bluth@reqres.in',\n",
       "  'first_name': 'George',\n",
       "  'last_name': 'Bluth',\n",
       "  'avatar': 'https://reqres.in/img/faces/1-image.jpg'},\n",
       " {'id': 2,\n",
       "  'email': 'janet.weaver@reqres.in',\n",
       "  'first_name': 'Janet',\n",
       "  'last_name': 'Weaver',\n",
       "  'avatar': 'https://reqres.in/img/faces/2-image.jpg'},\n",
       " {'id': 3,\n",
       "  'email': 'emma.wong@reqres.in',\n",
       "  'first_name': 'Emma',\n",
       "  'last_name': 'Wong',\n",
       "  'avatar': 'https://reqres.in/img/faces/3-image.jpg'},\n",
       " {'id': 4,\n",
       "  'email': 'eve.holt@reqres.in',\n",
       "  'first_name': 'Eve',\n",
       "  'last_name': 'Holt',\n",
       "  'avatar': 'https://reqres.in/img/faces/4-image.jpg'},\n",
       " {'id': 5,\n",
       "  'email': 'charles.morris@reqres.in',\n",
       "  'first_name': 'Charles',\n",
       "  'last_name': 'Morris',\n",
       "  'avatar': 'https://reqres.in/img/faces/5-image.jpg'},\n",
       " {'id': 6,\n",
       "  'email': 'tracey.ramos@reqres.in',\n",
       "  'first_name': 'Tracey',\n",
       "  'last_name': 'Ramos',\n",
       "  'avatar': 'https://reqres.in/img/faces/6-image.jpg'}]"
      ]
     },
     "execution_count": 12,
     "metadata": {},
     "output_type": "execute_result"
    }
   ],
   "source": [
    "data = r.json()['data']\n",
    "data"
   ]
  },
  {
   "cell_type": "code",
   "execution_count": null,
   "metadata": {},
   "outputs": [],
   "source": [
    "with open('reqres_data.csv', 'w', newline= '') as file:\n",
    "\n",
    "    writer = csv.DictWriter(file, ['id', 'email', 'first_name','last_name','avatar'])\n",
    "    writer.writeheader()\n",
    "\n",
    "    for d in data:\n",
    "\n",
    "        id = d['id']\n",
    "        email = d['email']\n",
    "        first_name = d['first_name']\n",
    "        last_name = d['last_name']\n",
    "        avatar = d['avatar']\n",
    "\n",
    "        writer.writerow({'id' : id, 'email' : email, 'first_name' : first_name , 'last_name': last_name ,'avatar':avatar })"
   ]
  }
 ],
 "metadata": {
  "kernelspec": {
   "display_name": "DA",
   "language": "python",
   "name": "python3"
  },
  "language_info": {
   "codemirror_mode": {
    "name": "ipython",
    "version": 3
   },
   "file_extension": ".py",
   "mimetype": "text/x-python",
   "name": "python",
   "nbconvert_exporter": "python",
   "pygments_lexer": "ipython3",
   "version": "3.11.5"
  }
 },
 "nbformat": 4,
 "nbformat_minor": 2
}
